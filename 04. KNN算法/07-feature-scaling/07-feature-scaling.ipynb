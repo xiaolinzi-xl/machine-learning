{
 "cells": [
  {
   "cell_type": "markdown",
   "metadata": {},
   "source": [
    "## 数据归一化处理"
   ]
  },
  {
   "cell_type": "code",
   "execution_count": 1,
   "metadata": {},
   "outputs": [],
   "source": [
    "import numpy as np\n",
    "import matplotlib.pyplot as plt"
   ]
  },
  {
   "cell_type": "markdown",
   "metadata": {},
   "source": [
    "## 最值归一化 Normalization"
   ]
  },
  {
   "cell_type": "code",
   "execution_count": 2,
   "metadata": {},
   "outputs": [],
   "source": [
    "x = np.random.randint(0,100,size=100) #[0,100) 区间取100个数"
   ]
  },
  {
   "cell_type": "code",
   "execution_count": 3,
   "metadata": {},
   "outputs": [
    {
     "data": {
      "text/plain": [
       "array([17, 79, 15, 46, 35, 91, 55, 85, 69, 76, 49, 18, 53, 64, 93,  9, 75,\n",
       "       75,  9, 17, 18, 66, 62, 27, 37, 25, 28, 37, 34, 34, 49, 60, 70, 71,\n",
       "        8, 57, 15,  1, 65, 79, 82,  1,  5,  7,  5, 11, 39, 58, 86, 19, 18,\n",
       "       43, 49,  0, 28,  8, 60, 24, 80,  8, 48, 81, 95, 71, 54, 38, 85,  6,\n",
       "       50, 18, 79, 77,  4, 31, 10, 72, 29, 10, 82, 95, 74, 41, 49, 20, 25,\n",
       "       24, 22, 53, 10,  6, 98, 47, 25, 90, 12, 58, 36, 89, 43, 50])"
      ]
     },
     "execution_count": 3,
     "metadata": {},
     "output_type": "execute_result"
    }
   ],
   "source": [
    "x"
   ]
  },
  {
   "cell_type": "code",
   "execution_count": 6,
   "metadata": {},
   "outputs": [
    {
     "data": {
      "text/plain": [
       "array([0.17346939, 0.80612245, 0.15306122, 0.46938776, 0.35714286,\n",
       "       0.92857143, 0.56122449, 0.86734694, 0.70408163, 0.7755102 ,\n",
       "       0.5       , 0.18367347, 0.54081633, 0.65306122, 0.94897959,\n",
       "       0.09183673, 0.76530612, 0.76530612, 0.09183673, 0.17346939,\n",
       "       0.18367347, 0.67346939, 0.63265306, 0.2755102 , 0.37755102,\n",
       "       0.25510204, 0.28571429, 0.37755102, 0.34693878, 0.34693878,\n",
       "       0.5       , 0.6122449 , 0.71428571, 0.7244898 , 0.08163265,\n",
       "       0.58163265, 0.15306122, 0.01020408, 0.66326531, 0.80612245,\n",
       "       0.83673469, 0.01020408, 0.05102041, 0.07142857, 0.05102041,\n",
       "       0.1122449 , 0.39795918, 0.59183673, 0.87755102, 0.19387755,\n",
       "       0.18367347, 0.43877551, 0.5       , 0.        , 0.28571429,\n",
       "       0.08163265, 0.6122449 , 0.24489796, 0.81632653, 0.08163265,\n",
       "       0.48979592, 0.82653061, 0.96938776, 0.7244898 , 0.55102041,\n",
       "       0.3877551 , 0.86734694, 0.06122449, 0.51020408, 0.18367347,\n",
       "       0.80612245, 0.78571429, 0.04081633, 0.31632653, 0.10204082,\n",
       "       0.73469388, 0.29591837, 0.10204082, 0.83673469, 0.96938776,\n",
       "       0.75510204, 0.41836735, 0.5       , 0.20408163, 0.25510204,\n",
       "       0.24489796, 0.2244898 , 0.54081633, 0.10204082, 0.06122449,\n",
       "       1.        , 0.47959184, 0.25510204, 0.91836735, 0.12244898,\n",
       "       0.59183673, 0.36734694, 0.90816327, 0.43877551, 0.51020408])"
      ]
     },
     "execution_count": 6,
     "metadata": {},
     "output_type": "execute_result"
    }
   ],
   "source": [
    "(x - np.min(x)) / (np.max(x) - np.min(x))"
   ]
  },
  {
   "cell_type": "code",
   "execution_count": 7,
   "metadata": {},
   "outputs": [],
   "source": [
    "X = np.random.randint(0,100,size=(50,2))"
   ]
  },
  {
   "cell_type": "code",
   "execution_count": 8,
   "metadata": {},
   "outputs": [
    {
     "data": {
      "text/plain": [
       "array([[88, 13],\n",
       "       [79,  0],\n",
       "       [36,  8],\n",
       "       [87, 74],\n",
       "       [97, 56],\n",
       "       [26,  3],\n",
       "       [98, 63],\n",
       "       [18, 42],\n",
       "       [11, 84],\n",
       "       [60,  2]])"
      ]
     },
     "execution_count": 8,
     "metadata": {},
     "output_type": "execute_result"
    }
   ],
   "source": [
    "X[:10]"
   ]
  },
  {
   "cell_type": "code",
   "execution_count": 9,
   "metadata": {},
   "outputs": [],
   "source": [
    "X = np.array(X,dtype=float)"
   ]
  },
  {
   "cell_type": "code",
   "execution_count": 10,
   "metadata": {},
   "outputs": [
    {
     "data": {
      "text/plain": [
       "array([[88., 13.],\n",
       "       [79.,  0.],\n",
       "       [36.,  8.],\n",
       "       [87., 74.],\n",
       "       [97., 56.],\n",
       "       [26.,  3.],\n",
       "       [98., 63.],\n",
       "       [18., 42.],\n",
       "       [11., 84.],\n",
       "       [60.,  2.]])"
      ]
     },
     "execution_count": 10,
     "metadata": {},
     "output_type": "execute_result"
    }
   ],
   "source": [
    "X[:10]"
   ]
  },
  {
   "cell_type": "code",
   "execution_count": 11,
   "metadata": {},
   "outputs": [
    {
     "data": {
      "text/plain": [
       "array([88., 79., 36., 87., 97., 26., 98., 18., 11., 60., 95., 23., 33.,\n",
       "       32., 22., 32.,  5., 34., 42., 20.,  3., 62., 99., 68., 61., 76.,\n",
       "       78.,  7.,  6.,  3., 94., 87., 76., 77., 90., 45., 49., 74., 93.,\n",
       "       54., 14., 82., 73.,  5., 32., 49., 89., 21., 31., 27.])"
      ]
     },
     "execution_count": 11,
     "metadata": {},
     "output_type": "execute_result"
    }
   ],
   "source": [
    "X[:,0]"
   ]
  },
  {
   "cell_type": "code",
   "execution_count": 12,
   "metadata": {},
   "outputs": [],
   "source": [
    "X[:,0] = (X[:,0] - np.min(X[:,0])) / (np.max(X[:,0]) - np.min(X[:,0]))"
   ]
  },
  {
   "cell_type": "code",
   "execution_count": 13,
   "metadata": {},
   "outputs": [],
   "source": [
    "X[:,1] = (X[:,1] - np.min(X[:,1])) / (np.max(X[:,1]) - np.min(X[:,1]))"
   ]
  },
  {
   "cell_type": "code",
   "execution_count": 14,
   "metadata": {},
   "outputs": [
    {
     "data": {
      "text/plain": [
       "array([[0.88541667, 0.13131313],\n",
       "       [0.79166667, 0.        ],\n",
       "       [0.34375   , 0.08080808],\n",
       "       [0.875     , 0.74747475],\n",
       "       [0.97916667, 0.56565657],\n",
       "       [0.23958333, 0.03030303],\n",
       "       [0.98958333, 0.63636364],\n",
       "       [0.15625   , 0.42424242],\n",
       "       [0.08333333, 0.84848485],\n",
       "       [0.59375   , 0.02020202]])"
      ]
     },
     "execution_count": 14,
     "metadata": {},
     "output_type": "execute_result"
    }
   ],
   "source": [
    "X[:10]"
   ]
  },
  {
   "cell_type": "code",
   "execution_count": 15,
   "metadata": {},
   "outputs": [
    {
     "data": {
      "text/plain": [
       "<matplotlib.collections.PathCollection at 0x11242e470>"
      ]
     },
     "execution_count": 15,
     "metadata": {},
     "output_type": "execute_result"
    },
    {
     "data": {
      "image/png": "[encoded data removed]",
      "text/plain": [
       "<Figure size 432x288 with 1 Axes>"
      ]
     },
     "metadata": {},
     "output_type": "display_data"
    }
   ],
   "source": [
    "plt.scatter(X[:,0],X[:,1])"
   ]
  },
  {
   "cell_type": "code",
   "execution_count": 16,
   "metadata": {},
   "outputs": [
    {
     "data": {
      "text/plain": [
       "0.5027083333333333"
      ]
     },
     "execution_count": 16,
     "metadata": {},
     "output_type": "execute_result"
    }
   ],
   "source": [
    "np.mean(X[:,0])"
   ]
  },
  {
   "cell_type": "code",
   "execution_count": 17,
   "metadata": {},
   "outputs": [
    {
     "data": {
      "text/plain": [
       "0.3264445061951572"
      ]
     },
     "execution_count": 17,
     "metadata": {},
     "output_type": "execute_result"
    }
   ],
   "source": [
    "np.std(X[:,0])"
   ]
  },
  {
   "cell_type": "code",
   "execution_count": 18,
   "metadata": {},
   "outputs": [
    {
     "data": {
      "text/plain": [
       "0.5088888888888888"
      ]
     },
     "execution_count": 18,
     "metadata": {},
     "output_type": "execute_result"
    }
   ],
   "source": [
    "np.mean(X[:,1])"
   ]
  },
  {
   "cell_type": "code",
   "execution_count": 19,
   "metadata": {},
   "outputs": [
    {
     "data": {
      "text/plain": [
       "0.33174331520152733"
      ]
     },
     "execution_count": 19,
     "metadata": {},
     "output_type": "execute_result"
    }
   ],
   "source": [
    "np.std(X[:,1])"
   ]
  },
  {
   "cell_type": "markdown",
   "metadata": {},
   "source": [
    "## 均值方差归一化 Standardization"
   ]
  },
  {
   "cell_type": "code",
   "execution_count": 26,
   "metadata": {},
   "outputs": [],
   "source": [
    "X2 = np.random.randint(0,100,(50,2))"
   ]
  },
  {
   "cell_type": "code",
   "execution_count": 27,
   "metadata": {},
   "outputs": [],
   "source": [
    "X2 = np.array(X2,dtype=float)"
   ]
  },
  {
   "cell_type": "code",
   "execution_count": 28,
   "metadata": {},
   "outputs": [],
   "source": [
    "X2[:,0] = (X2[:,0] - np.mean(X2[:,0])) / np.std(X2[:,0])"
   ]
  },
  {
   "cell_type": "code",
   "execution_count": 29,
   "metadata": {},
   "outputs": [],
   "source": [
    "X2[:,1] = (X2[:,1] - np.mean(X2[:,1])) / np.std(X2[:,1])"
   ]
  },
  {
   "cell_type": "code",
   "execution_count": 30,
   "metadata": {},
   "outputs": [
    {
     "data": {
      "text/plain": [
       "<matplotlib.collections.PathCollection at 0x1125aa6a0>"
      ]
     },
     "execution_count": 30,
     "metadata": {},
     "output_type": "execute_result"
    },
    {
     "data": {
      "image/png": "[encoded data removed]",
      "text/plain": [
       "<Figure size 432x288 with 1 Axes>"
      ]
     },
     "metadata": {},
     "output_type": "display_data"
    }
   ],
   "source": [
    "plt.scatter(X2[:,0],X2[:,1])"
   ]
  },
  {
   "cell_type": "code",
   "execution_count": 31,
   "metadata": {},
   "outputs": [
    {
     "data": {
      "text/plain": [
       "1.021405182655144e-16"
      ]
     },
     "execution_count": 31,
     "metadata": {},
     "output_type": "execute_result"
    }
   ],
   "source": [
    "np.mean(X2[:,0])"
   ]
  },
  {
   "cell_type": "code",
   "execution_count": 32,
   "metadata": {},
   "outputs": [
    {
     "data": {
      "text/plain": [
       "1.0"
      ]
     },
     "execution_count": 32,
     "metadata": {},
     "output_type": "execute_result"
    }
   ],
   "source": [
    "np.std(X2[:,1])"
   ]
  },
  {
   "cell_type": "code",
   "execution_count": 33,
   "metadata": {},
   "outputs": [
    {
     "data": {
      "text/plain": [
       "4.9960036108132046e-17"
      ]
     },
     "execution_count": 33,
     "metadata": {},
     "output_type": "execute_result"
    }
   ],
   "source": [
    "np.mean(X2[:,1])"
   ]
  },
  {
   "cell_type": "code",
   "execution_count": 34,
   "metadata": {},
   "outputs": [
    {
     "data": {
      "text/plain": [
       "1.0"
      ]
     },
     "execution_count": 34,
     "metadata": {},
     "output_type": "execute_result"
    }
   ],
   "source": [
    "np.std(X2[:,1])"
   ]
  },
  {
   "cell_type": "code",
   "execution_count": null,
   "metadata": {},
   "outputs": [],
   "source": []
  }
 ],
 "metadata": {
  "kernelspec": {
   "display_name": "Python 3",
   "language": "python",
   "name": "python3"
  },
  "language_info": {
   "codemirror_mode": {
    "name": "ipython",
    "version": 3
   },
   "file_extension": ".py",
   "mimetype": "text/x-python",
   "name": "python",
   "nbconvert_exporter": "python",
   "pygments_lexer": "ipython3",
   "version": "3.6.5"
  }
 },
 "nbformat": 4,
 "nbformat_minor": 2
}
